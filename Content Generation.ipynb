{
 "cells": [
  {
   "cell_type": "code",
   "execution_count": 7,
   "metadata": {
    "collapsed": true
   },
   "outputs": [],
   "source": [
    "import numpy as np"
   ]
  },
  {
   "cell_type": "code",
   "execution_count": 69,
   "metadata": {
    "collapsed": true
   },
   "outputs": [],
   "source": [
    "def create_user(user_id, params={}):\n",
    "    result = \"\"\n",
    "    w = params['watercrazy'] if 'watercrazy' in params else 0.3\n",
    "    e = params['electrocrazy'] if 'electrocrazy' in params else 0.3\n",
    "    result += '''INSERT INTO person(person_id, name, surname, paternal_name, registration_date, email, password_hash, is_admin) \n",
    "    VALUES ({0}, 'test{0}', 'test{0}', '', '01/01/2012', 'test{0}', '098f6bcd4621d373cade4e832627b4f6', false);'''.format(user_id)\n",
    "    result += '\\n'\n",
    "    result += '''INSERT INTO dweller VALUES ({});\\n'''.format(user_id)\n",
    "    result += '''INSERT INTO flat(flat_id, area, flat_number, balance, cladr_id, building_id)\n",
    "    VALUES ({0}, {1}, {0}, 0, 1, 1);\\n'''.format(user_id, np.random.randint(60, 320))\n",
    "    result += '''INSERT INTO dweller_lives_in_flat(person_id, flat_id)\n",
    "    VALUES ({0}, {0});\\n'''.format(user_id)\n",
    "    result += '''INSERT INTO meter(meter_id, installation_date, type, title, meter_unit_id, active, flat_id)\n",
    "    VALUES ({0}, '2012-01-01', 'Water', 'Cold water in kitchen test{1}', 1, true, {1});\\n'''.format(user_id*2, user_id)\n",
    "    result += '''INSERT INTO meter(meter_id, installation_date, type, title, meter_unit_id, active, flat_id)\n",
    "    VALUES ({0}, '2012-01-01', 'Electricity', 'Electricity in hall test{1}', 2, true, {1});\\n'''.format(user_id*2 + 1, user_id)\n",
    "    result += create_meter_readings(user_id*2, w, number=np.random.randint(5, 15))\n",
    "    result += create_meter_readings(user_id*2 + 1, e, number=np.random.randint(5, 15))\n",
    "    result += '\\n'\n",
    "    return result"
   ]
  },
  {
   "cell_type": "code",
   "execution_count": 92,
   "metadata": {
    "collapsed": false
   },
   "outputs": [],
   "source": [
    "with open(\"script_allnotpaid.sql\", 'w') as f:\n",
    "    for i in range(10, 510):\n",
    "        params = {}\n",
    "        if np.random.rand() > 0.5:\n",
    "            params['watercrazy'] = np.random.rand()\n",
    "        if np.random.rand() > 0.5:\n",
    "            params['electrocrazy'] = np.random.rand()\n",
    "        f.write(create_user(i, params=params))"
   ]
  },
  {
   "cell_type": "code",
   "execution_count": 91,
   "metadata": {
    "collapsed": false
   },
   "outputs": [],
   "source": [
    "def create_meter_readings(meter_id, craziness, number=10):\n",
    "    result = \"\"\n",
    "    counter = 1\n",
    "    start_value = np.random.randint(1, 300)\n",
    "    paid_amount = np.random.randint(1, 7) + 3\n",
    "    for i in range(number):\n",
    "        paid = 'false'\n",
    "        if i < paid_amount:\n",
    "            paid = 'true'\n",
    "        counter += np.random.randint(1, 15)\n",
    "        date = \"'\" + '2012-' + str(counter // 27 + 1) + \"-\" + str(counter % 27 + 1) + \"'\"\n",
    "        max_val = 100*craziness\n",
    "        if max_val < 5: max_val = 5\n",
    "        start_value += np.random.randint(1, max_val)\n",
    "        result += '''INSERT INTO Meter_reading(value, date, paid, meter_id)\n",
    "        VALUES ({}, {}, {}, {});\\n'''.format(start_value, date, paid, meter_id)\n",
    "    return result"
   ]
  },
  {
   "cell_type": "code",
   "execution_count": 87,
   "metadata": {
    "collapsed": false
   },
   "outputs": [
    {
     "name": "stdout",
     "output_type": "stream",
     "text": [
      "INSERT INTO Meter_reading(value, date, paid, meter_id)\n",
      "        VALUES (259, true, '2012-1-13', 5);\n",
      "INSERT INTO Meter_reading(value, date, paid, meter_id)\n",
      "        VALUES (268, true, '2012-1-27', 5);\n",
      "INSERT INTO Meter_reading(value, date, paid, meter_id)\n",
      "        VALUES (293, true, '2012-2-13', 5);\n",
      "INSERT INTO Meter_reading(value, date, paid, meter_id)\n",
      "        VALUES (310, true, '2012-2-20', 5);\n",
      "INSERT INTO Meter_reading(value, date, paid, meter_id)\n",
      "        VALUES (314, true, '2012-3-1', 5);\n",
      "INSERT INTO Meter_reading(value, date, paid, meter_id)\n",
      "        VALUES (359, true, '2012-3-11', 5);\n",
      "INSERT INTO Meter_reading(value, date, paid, meter_id)\n",
      "        VALUES (386, true, '2012-3-14', 5);\n",
      "INSERT INTO Meter_reading(value, date, paid, meter_id)\n",
      "        VALUES (418, false, '2012-3-24', 5);\n",
      "INSERT INTO Meter_reading(value, date, paid, meter_id)\n",
      "        VALUES (440, false, '2012-4-6', 5);\n",
      "INSERT INTO Meter_reading(value, date, paid, meter_id)\n",
      "        VALUES (455, false, '2012-4-20', 5);\n",
      "\n"
     ]
    }
   ],
   "source": [
    "print(create_meter_readings(5, 0.5))"
   ]
  },
  {
   "cell_type": "code",
   "execution_count": null,
   "metadata": {
    "collapsed": true
   },
   "outputs": [],
   "source": []
  }
 ],
 "metadata": {
  "kernelspec": {
   "display_name": "Python 3",
   "language": "python",
   "name": "python3"
  },
  "language_info": {
   "codemirror_mode": {
    "name": "ipython",
    "version": 3
   },
   "file_extension": ".py",
   "mimetype": "text/x-python",
   "name": "python",
   "nbconvert_exporter": "python",
   "pygments_lexer": "ipython3",
   "version": "3.5.1"
  }
 },
 "nbformat": 4,
 "nbformat_minor": 0
}
